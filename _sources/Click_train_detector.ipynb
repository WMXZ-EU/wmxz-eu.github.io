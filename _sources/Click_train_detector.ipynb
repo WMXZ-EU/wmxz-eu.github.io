{
 "cells": [
  {
   "cell_type": "markdown",
   "metadata": {
    "tags": [
     "disable-download-page"
    ]
   },
   "source": [
    "# Click train detector\n",
    "In the following we try to develop a click train detector by means of a detection to click association algorithm\n",
    "\n",
    "Consider Inter-click-interval (ICI)\n",
    "\n",
    "\\begin{equation}\n",
    "(ICI)_n = t_n - t_{n-1}\n",
    "\\end{equation}\n",
    "power variation\n",
    "\n",
    "\\begin{equation}\n",
    "\\Delta P_{n}=P_{n}-P_{n-1}\n",
    "\\end{equation}\n",
    "and boundary reflection (multipath)\n",
    "\n",
    "\\begin{equation}\n",
    "δτ_n=t_{r,n}-t_n\n",
    "\\end{equation}\n",
    "\n",
    "While for each click train, there is only one $(ICI)$ and $P$, there can be multiple boundary reflections\n",
    "\n",
    "Assume variations in these quantities are stochastic processes that vary only randomly\n",
    "\n",
    "\\begin{equation}\n",
    "\\Delta (ICI)_n  = \\Delta (ICI)_{n-1} + N(0,\\sigma_C) \n",
    "\\end{equation}\n",
    "\n",
    "\\begin{equation}\n",
    "\\Delta (\\Delta P_n)  = \\Delta (\\Delta P_{n-1}) + N(0,\\sigma_P) \n",
    "\\end{equation}\n",
    "\n",
    "\\begin{equation}\n",
    "\\Delta δτ_n  = \\Delta \\delta\\tau_{n-1} + N(0,\\sigma_\\tau) \n",
    "\\end{equation}\n",
    "\n",
    "That is\n",
    "\n",
    "\\begin{equation}\n",
    "(ICI)_n  = 2 (ICI)_{n-1} - (ICI)_{n-2} + N(0,\\sigma_C) \n",
    "\\end{equation}\n",
    "\n",
    "\\begin{equation}\n",
    "\\Delta P_n  = 2\\Delta P_{n-1} - \\Delta P_{n-2} + N(0,\\sigma_P) \n",
    "\\end{equation}\n",
    "\n",
    "\\begin{equation}\n",
    "δτ_n  = 2\\delta\\tau_{n-1} -\\delta\\tau_{n-2}+ N(0,\\sigma_\\tau) \n",
    "\\end{equation}\n"
   ]
  }
 ],
 "metadata": {
  "kernelspec": {
   "display_name": "Python 3 (ipykernel)",
   "language": "python",
   "name": "python3"
  },
  "language_info": {
   "codemirror_mode": {
    "name": "ipython",
    "version": 3
   },
   "file_extension": ".py",
   "mimetype": "text/x-python",
   "name": "python",
   "nbconvert_exporter": "python",
   "pygments_lexer": "ipython3",
   "version": "3.10.6"
  },
  "vscode": {
   "interpreter": {
    "hash": "7a46853c1d2c77eedafeafdde8fe0a5b7d687152ecfe4c8b3b29c4ca0ce2c152"
   }
  }
 },
 "nbformat": 4,
 "nbformat_minor": 4
}
