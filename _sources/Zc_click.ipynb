{
 "cells": [
  {
   "cell_type": "markdown",
   "metadata": {},
   "source": [
    "# Cuvier's beaked whale click\n",
    "\n",
    "For applying a matched filter to Cuvier's beaked whale clicks, a synthetic beaked whale click could be constructed according to\n",
    "  \\begin{equation}\n",
    "    s(t)=A(t)\\exp \\{-2\\pi i (f_0+f_m t)t\\}\n",
    "\\end{equation}\n",
    "\n",
    "where A(t) the signal amplitude is modeled according to\n",
    "\n",
    "  \\begin{equation}\n",
    "    A(t)=(A_0 t)^\\beta \\exp \\{- (A_0 t)^\\gamma\\}\n",
    "  \\end{equation}\n",
    "\n",
    "and where f0 = 30 kHz, fm = 55 kHz/ms, A0 = 13kHz, $\\beta=1.5$, and  $\\gamma=1.5$.\n",
    "\n",
    "The formula and parameters for the replica generation were chosen to fit an on-axis Cuvier's beaked whale click"
   ]
  }
 ],
 "metadata": {
  "kernelspec": {
   "display_name": "Python 3.10.4 ('tf')",
   "language": "python",
   "name": "python3"
  },
  "language_info": {
   "name": "python",
   "version": "3.10.4"
  },
  "orig_nbformat": 4,
  "vscode": {
   "interpreter": {
    "hash": "a8ea79254a0bbe7290b513af214360b7de1887d96d4efcd6aa7710070d3cd8a6"
   }
  }
 },
 "nbformat": 4,
 "nbformat_minor": 2
}
