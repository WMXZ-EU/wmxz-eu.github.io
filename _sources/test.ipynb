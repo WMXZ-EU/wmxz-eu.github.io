{
 "cells": [
  {
   "cell_type": "code",
   "execution_count": 11,
   "metadata": {},
   "outputs": [
    {
     "name": "stdout",
     "output_type": "stream",
     "text": [
      "[ 0.000  1.414  2.828  4.243  5.657  7.071  8.485  9.899]\n"
     ]
    }
   ],
   "source": [
    "# test formating of print\n",
    "import numpy as np\n",
    "np.set_printoptions(formatter={'float': '{: 0.3f}'.format})\n",
    "print(np.arange(0,10,np.sqrt(2.0)))"
   ]
  }
 ],
 "metadata": {
  "kernelspec": {
   "display_name": "Python 3.10.4 ('tf')",
   "language": "python",
   "name": "python3"
  },
  "language_info": {
   "codemirror_mode": {
    "name": "ipython",
    "version": 3
   },
   "file_extension": ".py",
   "mimetype": "text/x-python",
   "name": "python",
   "nbconvert_exporter": "python",
   "pygments_lexer": "ipython3",
   "version": "3.10.4"
  },
  "orig_nbformat": 4,
  "vscode": {
   "interpreter": {
    "hash": "a8ea79254a0bbe7290b513af214360b7de1887d96d4efcd6aa7710070d3cd8a6"
   }
  }
 },
 "nbformat": 4,
 "nbformat_minor": 2
}
