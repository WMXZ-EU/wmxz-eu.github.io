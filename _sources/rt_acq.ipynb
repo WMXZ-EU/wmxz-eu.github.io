{
 "cells": [
  {
   "cell_type": "markdown",
   "metadata": {},
   "source": [
    "# Real Time Notebook"
   ]
  },
  {
   "cell_type": "markdown",
   "metadata": {},
   "source": [
    "## Spectrum analyser"
   ]
  },
  {
   "cell_type": "code",
   "execution_count": null,
   "metadata": {},
   "outputs": [],
   "source": [
    "import struct\n",
    "import wave\n",
    "\n",
    "import matplotlib.animation as animation\n",
    "import matplotlib.pyplot as plt\n",
    "import numpy as np\n",
    "import pyaudio\n",
    "\n",
    "# next line for VS Code\n",
    "%matplotlib widget \n",
    "# next line for jupyter notebook\n",
    "#%matplotlib notebook \n",
    "\n",
    "TITLE = ''\n",
    "WIDTH = 640\n",
    "HEIGHT = 480\n",
    "FPS = 25\n",
    "\n",
    "nFFT = 512\n",
    "BUF_SIZE = 2 * nFFT\n",
    "FORMAT = pyaudio.paInt16\n",
    "CHANNELS = 1\n",
    "RATE = 44100\n",
    "\n",
    "def animate(i, line, stream, MAX_y):\n",
    "    N = int(stream.get_read_available())\n",
    "    if N>0:\n",
    "        N = int(max(N / nFFT, 1) * nFFT)\n",
    "        frames = []  \n",
    "        data = stream.read(N)\n",
    "        frames.append(data)\n",
    "        X=np.frombuffer(b''.join(frames),dtype=np.int16)/MAX_y\n",
    "        Y = 20*np.log10(np.abs(np.fft.rfft(X, nFFT))+1.0e-4)\n",
    "        line.set_ydata(Y)\n",
    "    return line,\n",
    "\n",
    "#\n",
    "dpi = plt.rcParams['figure.dpi']\n",
    "plt.rcParams['savefig.dpi'] = dpi\n",
    "plt.rcParams[\"figure.figsize\"] = (1.0 * WIDTH / dpi, 1.0 * HEIGHT / dpi)\n",
    "\n",
    "fig = plt.figure()\n",
    "\n",
    "X=np.zeros(nFFT)\n",
    "X[:3]=1\n",
    "Y = 20*np.log10(np.abs(np.fft.rfft(X, nFFT))/3)\n",
    "\n",
    "# Frequency range\n",
    "x_f = 1.0 * np.arange(nFFT/2+1) / nFFT * RATE\n",
    "\n",
    "ax = fig.add_subplot(111, title=TITLE, xlim=(x_f[0], x_f[-1]), ylim=(-30,40))\n",
    "line, = ax.plot(x_f, Y)\n",
    "\n",
    "p = pyaudio.PyAudio()\n",
    "\n",
    "stream = p.open(format=FORMAT,\n",
    "                  channels=CHANNELS,\n",
    "                  rate=RATE,\n",
    "                  input=True,\n",
    "                  frames_per_buffer=BUF_SIZE)\n",
    "\n",
    "MAX_y = 2.0 ** (p.get_sample_size(FORMAT) * 8 - 1)\n",
    "ani = animation.FuncAnimation(fig, animate, fargs=(line, stream, MAX_y), interval=1000.0 / FPS)\n",
    "\n",
    "plt.show()\n"
   ]
  },
  {
   "cell_type": "code",
   "execution_count": 2,
   "metadata": {},
   "outputs": [
    {
     "ename": "NameError",
     "evalue": "name 'stream' is not defined",
     "output_type": "error",
     "traceback": [
      "\u001b[1;31m---------------------------------------------------------------------------\u001b[0m",
      "\u001b[1;31mNameError\u001b[0m                                 Traceback (most recent call last)",
      "\u001b[1;32mc:\\Users\\zimme\\Documents\\bioacoustics\\rt_acq.ipynb Cell 4\u001b[0m in \u001b[0;36m<cell line: 1>\u001b[1;34m()\u001b[0m\n\u001b[1;32m----> <a href='vscode-notebook-cell:/c%3A/Users/zimme/Documents/bioacoustics/rt_acq.ipynb#W2sZmlsZQ%3D%3D?line=0'>1</a>\u001b[0m stream\u001b[39m.\u001b[39mstop_stream()\n\u001b[0;32m      <a href='vscode-notebook-cell:/c%3A/Users/zimme/Documents/bioacoustics/rt_acq.ipynb#W2sZmlsZQ%3D%3D?line=1'>2</a>\u001b[0m stream\u001b[39m.\u001b[39mclose()\n\u001b[0;32m      <a href='vscode-notebook-cell:/c%3A/Users/zimme/Documents/bioacoustics/rt_acq.ipynb#W2sZmlsZQ%3D%3D?line=2'>3</a>\u001b[0m p\u001b[39m.\u001b[39mterminate()\n",
      "\u001b[1;31mNameError\u001b[0m: name 'stream' is not defined"
     ]
    }
   ],
   "source": [
    "stream.stop_stream()\n",
    "stream.close()\n",
    "p.terminate()"
   ]
  }
 ],
 "metadata": {
  "kernelspec": {
   "display_name": "Python 3.10.4 ('tf')",
   "language": "python",
   "name": "python3"
  },
  "language_info": {
   "codemirror_mode": {
    "name": "ipython",
    "version": 3
   },
   "file_extension": ".py",
   "mimetype": "text/x-python",
   "name": "python",
   "nbconvert_exporter": "python",
   "pygments_lexer": "ipython3",
   "version": "3.10.4"
  },
  "orig_nbformat": 4,
  "vscode": {
   "interpreter": {
    "hash": "a8ea79254a0bbe7290b513af214360b7de1887d96d4efcd6aa7710070d3cd8a6"
   }
  }
 },
 "nbformat": 4,
 "nbformat_minor": 2
}
