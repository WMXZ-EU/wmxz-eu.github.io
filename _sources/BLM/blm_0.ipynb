{
 "cells": [
  {
   "cell_type": "markdown",
   "metadata": {},
   "source": [
    "# BML_0: BAR_LA_MARE\n",
    "**B**io **A**coustic **R**esearch to **L**earn **A**bout the **MAR**ine **E**nvironment"
   ]
  },
  {
   "cell_type": "markdown",
   "metadata": {},
   "source": [
    "## Preparation: Python Jupyter Lab\n",
    "Following worked for windows 11\n",
    "\n",
    "Installation (e.g. from https://docs.conda.io/en/latest/miniconda.html) \n",
    "- miniconda\n",
    "\n",
    "Link gives also instructions for other OS (Mac, Linux)\n",
    "\n",
    "Launch minconda terminal and check conda\n",
    "- `conda --help`\n",
    "\n",
    "create and change to working directory (Windows 11)\n",
    "- (e.g. `mkdir $home/documents/blm` followed by `cd $home/documents/blm`)\n",
    "\n",
    "or if `$home` is nod defined (e.g. Windows 10)\n",
    "- `mkdir documents/blm` followed by `cd documents/blm`\n",
    "\n",
    "Creation of environment\n",
    "- `conda create -n blm python=3`\n",
    "\n",
    "Activate conda environment\n",
    "- `conda activate blm`\n",
    "\n",
    "Download basic python moduls\n",
    "- `conda install jupyterLab`\n",
    "- `conda install numpy`\n",
    "- `conda install matplotlib`\n",
    "\n",
    "Start jupyterLab\n",
    "In miniconda terminal:\n",
    "- `jupyter lab`\n",
    "\n",
    "Web browser opens in working directory\n",
    "\n",
    "Open new notebook: New -> Python 3\n",
    "\n",
    "A new notebook will open \"untitled.ipynb\" ready to work with.\n"
   ]
  },
  {
   "cell_type": "markdown",
   "metadata": {},
   "source": [
    "## First steps in python"
   ]
  },
  {
   "cell_type": "code",
   "execution_count": 2,
   "metadata": {},
   "outputs": [
    {
     "name": "stdout",
     "output_type": "stream",
     "text": [
      "9\n",
      "12\n",
      "9\n",
      "False\n",
      "True\n",
      "9 12 9 False True\n"
     ]
    }
   ],
   "source": [
    "# simple mathematic\n",
    "a = 3*3\n",
    "b = 3*4\n",
    "c = 3**2\n",
    "d1 = a==b\n",
    "d2 = a==c\n",
    "#\n",
    "print(a)\n",
    "print(b)\n",
    "print(c)\n",
    "print(d1)\n",
    "print(d2)\n",
    "#\n",
    "print(a,b,c,d1,d2)\n"
   ]
  },
  {
   "cell_type": "markdown",
   "metadata": {},
   "source": [
    "## Additional commands\n",
    "\n",
    "as of 2022 Windows 11 uses Windows Terminal and CMD does not work \n",
    "To ensure Windows Terminal in VSCode\n",
    "\n",
    "open Preferences > Settings (CTRL+,)\n",
    "- search for terminal.integrated.defaultProfile.windows and \n",
    "- set a Windows Powershell "
   ]
  }
 ],
 "metadata": {
  "kernelspec": {
   "display_name": "Python 3 (ipykernel)",
   "language": "python",
   "name": "python3"
  },
  "language_info": {
   "codemirror_mode": {
    "name": "ipython",
    "version": 3
   },
   "file_extension": ".py",
   "mimetype": "text/x-python",
   "name": "python",
   "nbconvert_exporter": "python",
   "pygments_lexer": "ipython3",
   "version": "3.10.6"
  },
  "vscode": {
   "interpreter": {
    "hash": "a8ea79254a0bbe7290b513af214360b7de1887d96d4efcd6aa7710070d3cd8a6"
   }
  }
 },
 "nbformat": 4,
 "nbformat_minor": 4
}
