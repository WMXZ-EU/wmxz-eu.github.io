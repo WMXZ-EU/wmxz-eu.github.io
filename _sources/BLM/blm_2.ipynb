{
 "cells": [
  {
   "cell_type": "markdown",
   "id": "41d6296c-eb18-4c4e-b05f-bcf320c15e17",
   "metadata": {},
   "source": [
    "#BLM_2:  wave propagation"
   ]
  },
  {
   "cell_type": "markdown",
   "id": "d38ca076-2695-48fc-b90d-75e72bd8255d",
   "metadata": {},
   "source": [
    "## Equation of motion of disturbed particles\n",
    "#### Newton' law of motion:\n",
    "Newton: \"a change in motion is proportional to the motive force impressed and takes place along a stright line in which the force is impressed\"\n",
    "\n",
    "In mathematical terms\n",
    "\\begin{equation}\n",
    "m\\frac{d}{dt}(u)=F_u\n",
    "\\end{equation}\n",
    "where $m$ is the particle mass that is considered constant and $u$ is the velocity of the particles\n",
    "\n",
    "#### Restoring force of pressure gradient:\n",
    "If a (spherical) particle volume is forefully changed by external pressure then the restoring force is proportional to the pressure variation\n",
    "\\begin{equation}\n",
    "F_p = - \\frac{d}{dr} P\n",
    "\\end{equation}\n",
    "where $V=m\\rho$ is the (spherical) volume of the particles  and $r$ is measured along the radial dimension of the spherical volume.\n",
    "\n",
    "#### Equation of continuity:\n",
    "Relative changes in particle densities is compensated by a velocity gradient\n",
    "\\begin{equation}\n",
    "\\frac{1}{\\rho}\\frac{d}{dt}\\rho + \\frac{d}{dr}u = 0\n",
    "\\end{equation}\n",
    "\n",
    "### Wave equation\n",
    "Combining all three equations one can obtain the wave equation that is the mathematical desctiption of propagating waves and disturbances\n",
    "\\begin{equation}\n",
    "\\frac{d^2(rP)}{dt^2} = c^2\\frac{d^2(rP)}{dr^2}\n",
    "\\end{equation}\n",
    "The solution of which is any function of the form\n",
    "\\begin{equation}\n",
    "rP = f(ct \\pm r)\n",
    "\\end{equation}\n",
    "This can easily be verified by the second derivatives with respect to time $t$ and range $r$. The form of the solution $f(ct \\pm r)$ is an indication that the time evolution of waves is directly related with spatial distribution of the wave. \n",
    "\n",
    "#### Direction of propagation\n",
    "The solution to the spherical wave equation contains as argument $(ct \\pm r)$ which means that for any solution we have two cases \n",
    "-  $(ct - r)$ that is, for increasing time $t$ the range $r$ is increasing (wave is outgoing, diverging from origin)\n",
    "-  $(ct + r)$ that is, for increasing time $t$ the range $r$ is decreasing (wave is incomming, converging to origin)\n"
   ]
  }
 ],
 "metadata": {
  "kernelspec": {
   "display_name": "Python 3 (ipykernel)",
   "language": "python",
   "name": "python3"
  },
  "language_info": {
   "codemirror_mode": {
    "name": "ipython",
    "version": 3
   },
   "file_extension": ".py",
   "mimetype": "text/x-python",
   "name": "python",
   "nbconvert_exporter": "python",
   "pygments_lexer": "ipython3",
   "version": "3.10.6"
  }
 },
 "nbformat": 4,
 "nbformat_minor": 5
}
