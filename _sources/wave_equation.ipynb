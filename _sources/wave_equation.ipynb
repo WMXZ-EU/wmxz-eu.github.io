{
 "cells": [
  {
   "cell_type": "markdown",
   "metadata": {},
   "source": [
    "# Wave equation\n",
    "The standard form of the wave equation in spherical coordinates is given by\n",
    "\\begin{equation}\n",
    "\\frac{\\partial^2 (rP)}{\\partial t^2}=c^2\\frac{\\partial^2(rP)}{\\partial^2r}\n",
    "\\end{equation}\n",
    "the solution of which is\n",
    "\\begin{equation}\n",
    "rP=f(ct\\pm r)\n",
    "\\end{equation}\n",
    "where $f(ct\\pm r)$ is any function that depends on $(ct\\pm r)$\n",
    "\n",
    "The general solution includes both outgoing (minus sign) and incoming waves( plus sign)\n",
    "\n",
    "For periodic sound waves one can write\n",
    "\\begin{equation}\n",
    "f(ct\\pm r) = A(ct\\pm r)\\cos\\Biggl(\\frac{2\\pi}{\\lambda}(ct\\pm r)\\Biggr)\n",
    "= A(ct\\pm r)\\cos(\\omega t\\pm kr)\n",
    "\\end{equation}\n",
    "\n"
   ]
  }
 ],
 "metadata": {
  "kernelspec": {
   "display_name": "Python 3.9.7 64-bit",
   "language": "python",
   "name": "python3"
  },
  "language_info": {
   "name": "python",
   "version": "3.9.7"
  },
  "orig_nbformat": 4,
  "vscode": {
   "interpreter": {
    "hash": "7a46853c1d2c77eedafeafdde8fe0a5b7d687152ecfe4c8b3b29c4ca0ce2c152"
   }
  }
 },
 "nbformat": 4,
 "nbformat_minor": 2
}
