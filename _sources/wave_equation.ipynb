{
 "cells": [
  {
   "cell_type": "markdown",
   "metadata": {},
   "source": [
    "# Wave equation\n",
    "The standard form of the wave equation in spherical coordinates is given by\n",
    "\\begin{equation}\n",
    "\\frac{\\partial^2 (rP)}{\\partial t^2}=c^2\\frac{\\partial^2(rP)}{\\partial^2r}\n",
    "\\end{equation}\n",
    "the solution of which is\n",
    "\\begin{equation}\n",
    "rP=f(ct\\pm r)\n",
    "\\end{equation}\n",
    "where $f(ct\\pm r)$ is any function that depends on $(ct\\pm r)$\n",
    "\n",
    "The general solution includes both outgoing (minus sign) and incoming waves( plus sign)\n",
    "\n",
    "For periodic sound waves one can write\n",
    "\\begin{equation}\n",
    "f(ct\\pm r) = A(ct\\pm r)\\cos\\Biggl(\\frac{2\\pi}{\\lambda}(ct\\pm r)\\Biggr)\n",
    "= A(ct\\pm r)\\cos(\\omega t\\pm kr)\n",
    "\\end{equation}"
   ]
  }
 ],
 "metadata": {
  "kernelspec": {
   "display_name": "Python 3.10.4 ('tf')",
   "language": "python",
   "name": "python3"
  },
  "language_info": {
   "name": "python",
   "version": "3.10.4"
  },
  "orig_nbformat": 4,
  "vscode": {
   "interpreter": {
    "hash": "a8ea79254a0bbe7290b513af214360b7de1887d96d4efcd6aa7710070d3cd8a6"
   }
  }
 },
 "nbformat": 4,
 "nbformat_minor": 2
}
